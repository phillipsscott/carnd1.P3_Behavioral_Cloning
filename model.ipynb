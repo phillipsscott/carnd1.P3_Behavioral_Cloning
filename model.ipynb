{
 "cells": [
  {
   "cell_type": "code",
   "execution_count": 4,
   "metadata": {},
   "outputs": [],
   "source": [
    "import csv\n",
    "import cv2\n",
    "import sklearn\n",
    "import numpy as np\n",
    "import random\n",
    "\n",
    "\n",
    "samples = []\n",
    "with open('./data/driving_log.csv') as csvfile:\n",
    "    reader = csv.reader(csvfile)\n",
    "    for line in reader:\n",
    "        samples.append(line)"
   ]
  },
  {
   "cell_type": "code",
   "execution_count": 5,
   "metadata": {},
   "outputs": [],
   "source": [
    "from sklearn.model_selection import train_test_split\n",
    "train_samples, validation_samples = train_test_split(samples,\n",
    "                                                    test_size=0.2,\n",
    "                                                    random_state=36)"
   ]
  },
  {
   "cell_type": "code",
   "execution_count": 6,
   "metadata": {},
   "outputs": [],
   "source": [
    "def generator(samples, batch_size=64):\n",
    "    nb_samples = len(samples)\n",
    "    while 1:\n",
    "        random.shuffle(samples)\n",
    "        for offset in range(0, nb_samples, batch_size):\n",
    "            batch_samples = samples[offset:offset+batch_size]\n",
    "            \n",
    "            images = []\n",
    "            steering_angles = []\n",
    "            for batch_sample in batch_samples:\n",
    "                \n",
    "                #set image path for center/left/right cameras\n",
    "                center_path = './data/IMG/'+batch_sample[0].split('\\\\')[-1]\n",
    "                left_path = './data/IMG/'+batch_sample[1].split('\\\\')[-1]\n",
    "                right_path = './data/IMG/'+batch_sample[2].split('\\\\')[-1]\n",
    "                \n",
    "                #load images with cv2\n",
    "                center_img = cv2.imread(center_path)\n",
    "                left_img = cv2.imread(left_path)\n",
    "                right_img = cv2.imread(right_path)\n",
    "                \n",
    "                #convert images from BGR to RGB to match drive.py color format\n",
    "                center_img = cv2.cvtColor(center_img, cv2.COLOR_BGR2RGB)\n",
    "                left_img = cv2.cvtColor(left_img, cv2.COLOR_BGR2RGB)\n",
    "                right_img = cv2.cvtColor(right_img, cv2.COLOR_BGR2RGB)\n",
    "                \n",
    "                #set steering angles; apply +-0.2 to center steering angle for left/right cameras \n",
    "                steering_correction = 0.2\n",
    "                \n",
    "                steering_center = float(batch_sample[3])\n",
    "                steering_left = steering_center + steering_correction\n",
    "                steering_right = steering_center - steering_correction\n",
    "                \n",
    "                #flip images and steering angles to augment training data\n",
    "                center_flip = cv2.flip(center_img, 1)\n",
    "                left_flip = cv2.flip(center_img, 1)\n",
    "                right_flip = cv2.flip(center_img, 1)\n",
    "                \n",
    "                steering_center_flip = -steering_center\n",
    "                steering_left_flip = -steering_left\n",
    "                steering_right_flip = -steering_right\n",
    "                \n",
    "                #add data to image/steering lists\n",
    "                images.extend([center_img, left_img, right_img,\n",
    "                               center_flip, left_flip, right_flip])\n",
    "                steering_angles.extend([steering_center, steering_left, steering_right,\n",
    "                                        steering_center_flip, steering_left_flip, steering_right_flip])\n",
    "                \n",
    "            X_train = np.array(images)\n",
    "            y_train = np.array(steering_angles)\n",
    "            \n",
    "            yield sklearn.utils.shuffle(X_train, y_train)"
   ]
  },
  {
   "cell_type": "code",
   "execution_count": 11,
   "metadata": {},
   "outputs": [],
   "source": [
    "from keras.layers import Dense, Dropout, Flatten, Conv2D, Cropping2D, Lambda\n",
    "from keras.regularizers import l2\n",
    "from keras.models import Sequential\n",
    "from keras.callbacks import ModelCheckpoint\n",
    "import tensorflow as tf\n",
    "tf.python.control_flow_ops = tf"
   ]
  },
  {
   "cell_type": "code",
   "execution_count": 8,
   "metadata": {},
   "outputs": [],
   "source": [
    "### Hyperparameters\n",
    "batch_size = 64\n",
    "epochs = 20"
   ]
  },
  {
   "cell_type": "code",
   "execution_count": 9,
   "metadata": {},
   "outputs": [],
   "source": [
    "train_generator = generator(train_samples, batch_size=batch_size)\n",
    "validation_generator = generator(validation_samples, batch_size=batch_size)"
   ]
  },
  {
   "cell_type": "code",
   "execution_count": 10,
   "metadata": {},
   "outputs": [],
   "source": [
    "x, y = next(train_generator)"
   ]
  },
  {
   "cell_type": "code",
   "execution_count": 19,
   "metadata": {},
   "outputs": [],
   "source": [
    "input_shape = x.shape[1:]\n",
    "\n",
    "model = Sequential()\n",
    "\n",
    "model.add(Cropping2D(cropping=((50, 20), (0,0)), \n",
    "                     input_shape=(input_shape)))\n",
    "model.add(Lambda(lambda x: x/127.5 - 1.0))\n",
    "\n",
    "model.add(Conv2D(24,5,5,subsample=(2,2), W_regularizer='l2', activation='relu'))\n",
    "model.add(Conv2D(36,5,5,subsample=(2,2), W_regularizer='l2', activation='relu'))\n",
    "model.add(Conv2D(48,5,5,subsample=(2,2), W_regularizer='l2', activation='relu'))\n",
    "model.add(Conv2D(64,3,3,subsample=(2,2), W_regularizer='l2', activation='relu'))\n",
    "model.add(Conv2D(64,3,3,subsample=(2,2), W_regularizer='l2', activation='relu'))\n",
    "model.add(Flatten())\n",
    "model.add(Dropout(0.5))\n",
    "model.add(Dense(100))\n",
    "model.add(Dropout(0.5))\n",
    "model.add(Dense(50))\n",
    "model.add(Dropout(0.5))\n",
    "model.add(Dense(1))\n",
    "\n",
    "model.compile(loss='mse', optimizer='adam')"
   ]
  },
  {
   "cell_type": "code",
   "execution_count": 20,
   "metadata": {
    "scrolled": false
   },
   "outputs": [
    {
     "name": "stdout",
     "output_type": "stream",
     "text": [
      "Epoch 1/20\n",
      "84132/84132 [==============================] - 194s - loss: 0.2270 - val_loss: 0.0390\n",
      "Epoch 2/20\n",
      "84132/84132 [==============================] - 185s - loss: 0.0411 - val_loss: 0.0378\n",
      "Epoch 3/20\n",
      "84132/84132 [==============================] - 185s - loss: 0.0401 - val_loss: 0.0361\n",
      "Epoch 4/20\n",
      "84132/84132 [==============================] - 184s - loss: 0.0397 - val_loss: 0.0375\n",
      "Epoch 5/20\n",
      "84132/84132 [==============================] - 185s - loss: 0.0395 - val_loss: 0.0389\n",
      "Epoch 6/20\n",
      "84132/84132 [==============================] - 185s - loss: 0.0397 - val_loss: 0.0405\n",
      "Epoch 7/20\n",
      "84132/84132 [==============================] - 185s - loss: 0.0394 - val_loss: 0.0362\n",
      "Epoch 8/20\n",
      "84132/84132 [==============================] - 185s - loss: 0.0391 - val_loss: 0.0369\n",
      "Epoch 9/20\n",
      "84132/84132 [==============================] - 185s - loss: 0.0392 - val_loss: 0.0362\n",
      "Epoch 10/20\n",
      "84132/84132 [==============================] - 191s - loss: 0.0392 - val_loss: 0.0390\n",
      "Epoch 11/20\n",
      "84132/84132 [==============================] - 192s - loss: 0.0392 - val_loss: 0.0385\n",
      "Epoch 12/20\n",
      "84132/84132 [==============================] - 192s - loss: 0.0389 - val_loss: 0.0360\n",
      "Epoch 13/20\n",
      "84132/84132 [==============================] - 192s - loss: 0.0388 - val_loss: 0.0354\n",
      "Epoch 14/20\n",
      "84132/84132 [==============================] - 191s - loss: 0.0390 - val_loss: 0.0353\n",
      "Epoch 15/20\n",
      "84132/84132 [==============================] - 192s - loss: 0.0390 - val_loss: 0.0352\n",
      "Epoch 16/20\n",
      "84132/84132 [==============================] - 192s - loss: 0.0388 - val_loss: 0.0386\n",
      "Epoch 17/20\n",
      "84132/84132 [==============================] - 190s - loss: 0.0389 - val_loss: 0.0351\n",
      "Epoch 18/20\n",
      "84132/84132 [==============================] - 188s - loss: 0.0386 - val_loss: 0.0399\n",
      "Epoch 19/20\n",
      "84132/84132 [==============================] - 192s - loss: 0.0390 - val_loss: 0.0362\n",
      "Epoch 20/20\n",
      "84132/84132 [==============================] - 192s - loss: 0.0389 - val_loss: 0.0351\n"
     ]
    }
   ],
   "source": [
    "history = model.fit_generator(train_generator,\n",
    "                              samples_per_epoch=len(train_samples * 6),\n",
    "                              nb_epoch=epochs,\n",
    "                              validation_data=validation_generator,\n",
    "                              nb_val_samples=len(validation_samples * 6),\n",
    "                              callbacks=[ModelCheckpoint('model.h5', save_best_only=True)])"
   ]
  },
  {
   "cell_type": "code",
   "execution_count": 29,
   "metadata": {
    "scrolled": true
   },
   "outputs": [
    {
     "data": {
      "image/png": "[encoded data removed]",
      "text/plain": [
       "<matplotlib.figure.Figure at 0x7f2ae9322b00>"
      ]
     },
     "metadata": {},
     "output_type": "display_data"
    }
   ],
   "source": [
    "plt.plot(history.history['loss'][1:])\n",
    "plt.plot(history.history['val_loss'][1:])\n",
    "plt.title('model mean squared error loss')\n",
    "plt.ylabel('mean squared error loss')\n",
    "plt.xlabel('epoch')\n",
    "plt.legend(['training set', 'validation set'], loc='upper right')\n",
    "plt.show()"
   ]
  }
 ],
 "metadata": {
  "kernelspec": {
   "display_name": "Python 3",
   "language": "python",
   "name": "python3"
  },
  "language_info": {
   "codemirror_mode": {
    "name": "ipython",
    "version": 3
   },
   "file_extension": ".py",
   "mimetype": "text/x-python",
   "name": "python",
   "nbconvert_exporter": "python",
   "pygments_lexer": "ipython3",
   "version": "3.5.2"
  },
  "widgets": {
   "state": {},
   "version": "1.1.2"
  }
 },
 "nbformat": 4,
 "nbformat_minor": 2
}
